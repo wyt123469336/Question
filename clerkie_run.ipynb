{
 "cells": [
  {
   "cell_type": "code",
   "execution_count": 56,
   "metadata": {},
   "outputs": [],
   "source": [
    "import nltk\n",
    "import json\n",
    "import numpy as np\n",
    "import csv\n",
    "import sqlite3\n",
    "from nltk.stem.lancaster import LancasterStemmer\n",
    "\n",
    "stemmer = LancasterStemmer()"
   ]
  },
  {
   "cell_type": "code",
   "execution_count": 57,
   "metadata": {},
   "outputs": [],
   "source": [
    "#question relatable\n",
    "related_threshold = 0.5\n",
    "# probability threshold\n",
    "ERROR_THRESHOLD = 0.6\n",
    "# load our calculated synapse values\n",
    "synapse_file = 'synapses.json' \n",
    "with open(synapse_file) as data_file: \n",
    "    synapse = json.load(data_file) \n",
    "    words = np.asarray(synapse['words'])\n",
    "    synapse_0 = np.asarray(synapse['synapse0']) \n",
    "    synapse_1 = np.asarray(synapse['synapse1'])\n",
    "    classes = np.asarray(synapse['classes'])\n",
    "word_token = set(words)\n"
   ]
  },
  {
   "cell_type": "code",
   "execution_count": 58,
   "metadata": {},
   "outputs": [],
   "source": [
    "# compute sigmoid nonlinearity\n",
    "def sigmoid(x):\n",
    "    output = 1/(1+np.exp(-x))\n",
    "    return output\n",
    "\n",
    "# convert output of sigmoid function to its derivative\n",
    "def sigmoid_output_to_derivative(output):\n",
    "    return output*(1-output)\n",
    " \n",
    "def clean_up_sentence(sentence):\n",
    "    # tokenize the pattern\n",
    "    sentence_words = nltk.word_tokenize(sentence)\n",
    "    # stem each word\n",
    "    sentence_words = [stemmer.stem(word.lower()) for word in sentence_words]\n",
    "    return sentence_words\n",
    "\n",
    "# return bag of words array: 0 or 1 for each word in the bag that exists in the sentence\n",
    "def bow(sentence, words, show_details=False):\n",
    "    # tokenize the pattern\n",
    "    sentence_words = clean_up_sentence(sentence)\n",
    "    # bag of words\n",
    "    bag = [0]*len(words)  \n",
    "    for s in sentence_words:\n",
    "        for i,w in enumerate(words):\n",
    "            if w == s: \n",
    "                bag[i] = 1\n",
    "                if show_details:\n",
    "                    print (\"found in bag: %s\" % w)\n",
    "\n",
    "    return(np.array(bag))\n",
    "\n",
    "def think(sentence, show_details=False):\n",
    "    x = bow(sentence.lower(), words, show_details)\n",
    "    if show_details:\n",
    "        print (\"sentence:\", sentence, \"\\n bow:\", x)\n",
    "    # input layer is our bag of words\n",
    "    l0 = x\n",
    "    # matrix multiplication of input and hidden layer\n",
    "    l1 = sigmoid(np.dot(l0, synapse_0))\n",
    "    # output layer\n",
    "    l2 = sigmoid(np.dot(l1, synapse_1))\n",
    "    return l2\n",
    "\n",
    "def classify(sentence, show_details=False):\n",
    "    results = think(sentence, show_details)\n",
    "\n",
    "    results = [[i,r] for i,r in enumerate(results) if r>ERROR_THRESHOLD ] \n",
    "    results.sort(key=lambda x: x[1], reverse=True) \n",
    "    return_results =[[classes[r[0]],r[1]] for r in results]\n",
    "    #print (\"%s \\n classification: %s\" % (sentence, return_results))\n",
    "    return return_results\n",
    "def add_question(user_input,class_name):\n",
    "    f = open(\"untrained.txt\", \"a\")\n",
    "    f.write(\"{},{}\".format(class_name,user_input))"
   ]
  },
  {
   "cell_type": "code",
   "execution_count": 59,
   "metadata": {},
   "outputs": [],
   "source": [
    "# classify(\"How much money do I have in my bank accounts?\")\n",
    "# classify(\"How much money can I spare?\")\n",
    "# classify(\"Can I buy this $2.3M apartment?\")\n",
    "# classify(\"Can I manage to purchase this $1.6M house?\")\n",
    "# classify(\"What's the total amount of money in my accounts?\")\n",
    "# classify(\"Can I buy a $2M ferrari\")\n",
    "# classify(\"I would love to check my bank balance\", show_details=True)\n",
    "#classify(\"check budget\")"
   ]
  },
  {
   "cell_type": "code",
   "execution_count": 60,
   "metadata": {},
   "outputs": [],
   "source": [
    "def get_balance(bank_type = 'all'):\n",
    "    value = 0\n",
    "    conn = sqlite3.connect('Financial_Mary.db')\n",
    "    c = conn.cursor()\n",
    "    \n",
    "    if bank_type == 'all':\n",
    "        c.execute('SELECT SUM(balance) FROM bank_accounts')\n",
    "        value = c.fetchall()[0][0]\n",
    "        print(value)\n",
    "    conn.close()\n",
    "\n",
    "def get_budget():\n",
    "    conn = sqlite3.connect('Financial_Mary.db')\n",
    "    c = conn.cursor()\n",
    "    \n",
    "    c.execute('SELECT SUM(amount_monthly) FROM in_and_out')\n",
    "    budget = c.fetchall()[0][0]\n",
    "    print('Monthly Earning {}'.format(budget))\n",
    "    print('total')\n",
    "    conn.close()\n",
    "    \n",
    "def is_affordable():\n",
    "    pass"
   ]
  },
  {
   "cell_type": "code",
   "execution_count": 61,
   "metadata": {},
   "outputs": [],
   "source": [
    "def ask_clerkie():\n",
    "    print('=========================================================')\n",
    "    user_input = input(\"what's your financial question?\\n(type 'quit' to exit.) \\n\\n\")\n",
    "    if user_input == 'quit':\n",
    "        print('\\nThanks for using clerkie')\n",
    "        return False\n",
    "    user_token = clean_up_sentence(user_input)\n",
    "    related_token = 0\n",
    "    for token in user_token:\n",
    "        if token in word_token:\n",
    "            related_token += 1\n",
    "    if related_token/len(user_token) >= related_threshold and len(user_token) >= 2:\n",
    "        question_class = classify(user_input)\n",
    "        if len(question_class) == 0:\n",
    "            print(\"\\n sorry, I'm still learning, care to classify the question for me?\")\n",
    "            print(\"\\n0: check balance\\n1:check budget:\\n2:check affordable\")\n",
    "            class_name = input(\"0 or 1 or 2? (press enter to skip)\\n\")\n",
    "            if class_name == '1' or class_name == '2' or class_name == '0':\n",
    "                add_question(user_input,class_name)\n",
    "                print(\"\\nThanks! I've saved your question for future traning\")\n",
    "        elif question_class[0][0] == 0:\n",
    "            get_balance()\n",
    "        elif question_class[0][0] == 1:\n",
    "            get_budget()\n",
    "        elif question_class[0][0] == 2:\n",
    "            is_affordable()\n",
    "        \n",
    "    else:\n",
    "        print(\"\\nPlease ask financial related question (more than 2 words)\")\n",
    "    return True\n",
    "    \n",
    "    "
   ]
  },
  {
   "cell_type": "code",
   "execution_count": null,
   "metadata": {},
   "outputs": [],
   "source": []
  },
  {
   "cell_type": "code",
   "execution_count": 62,
   "metadata": {
    "scrolled": true
   },
   "outputs": [
    {
     "name": "stdout",
     "output_type": "stream",
     "text": [
      "=========================================================\n",
      "what's your financial question?\n",
      "(type 'quit' to exit.) \n",
      "\n",
      "check balance\n",
      "204000\n",
      "=========================================================\n",
      "what's your financial question?\n",
      "(type 'quit' to exit.) \n",
      "\n",
      "check budget\n",
      "Monthly Earning 500\n",
      "total\n",
      "=========================================================\n",
      "what's your financial question?\n",
      "(type 'quit' to exit.) \n",
      "\n",
      "quit\n",
      "\n",
      "Thanks for using clerkie\n"
     ]
    }
   ],
   "source": [
    "flag = True\n",
    "while flag:\n",
    "    flag = ask_clerkie()\n",
    "    "
   ]
  },
  {
   "cell_type": "code",
   "execution_count": 63,
   "metadata": {},
   "outputs": [
    {
     "data": {
      "text/plain": [
       "[[1, 0.997477601859776]]"
      ]
     },
     "execution_count": 63,
     "metadata": {},
     "output_type": "execute_result"
    }
   ],
   "source": [
    "classify('check budget')"
   ]
  },
  {
   "cell_type": "code",
   "execution_count": null,
   "metadata": {},
   "outputs": [],
   "source": []
  }
 ],
 "metadata": {
  "kernelspec": {
   "display_name": "Python 3",
   "language": "python",
   "name": "python3"
  },
  "language_info": {
   "codemirror_mode": {
    "name": "ipython",
    "version": 3
   },
   "file_extension": ".py",
   "mimetype": "text/x-python",
   "name": "python",
   "nbconvert_exporter": "python",
   "pygments_lexer": "ipython3",
   "version": "3.6.5"
  }
 },
 "nbformat": 4,
 "nbformat_minor": 2
}
