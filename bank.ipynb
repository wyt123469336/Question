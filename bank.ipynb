{
 "cells": [
  {
   "cell_type": "code",
   "execution_count": 25,
   "metadata": {},
   "outputs": [],
   "source": [
    "import sqlite3\n",
    "import nltk\n",
    "from nltk.corpus import wordnet"
   ]
  },
  {
   "cell_type": "code",
   "execution_count": 19,
   "metadata": {},
   "outputs": [],
   "source": [
    "# conn = sqlite3.connect('Financial_Mary.db')\n",
    "# c = conn.cursor()\n",
    "# c.execute(\"\"\"CREATE TABLE IF NOT EXISTS bank_accounts (\n",
    "#     bank_name varchar(255),\n",
    "#     account_id varchar(255),\n",
    "#     account_type varchar(255),\n",
    "#     balance int\n",
    "# )\"\"\")\n",
    "# c.execute(\"\"\"CREATE TABLE IF NOT EXISTS in_and_out (\n",
    "#     type varchar(255),\n",
    "#     source varchar(255),\n",
    "#     amount_monthly int\n",
    "# )\"\"\")\n",
    "\n",
    "# c.execute(\"INSERT INTO bank_accounts VALUES ('bank of america','x9898','checking',9000)\")\n",
    "# c.execute(\"INSERT INTO bank_accounts VALUES ('bank of america','x9000','saving',100000)\")\n",
    "# c.execute(\"INSERT INTO bank_accounts VALUES ('chase','x9898','saving',80000)\")\n",
    "# c.execute(\"INSERT INTO bank_accounts VALUES ('','','credit',15000)\")\n",
    "# c.execute(\"INSERT INTO in_and_out VALUES ('income','salary',6000)\")\n",
    "# c.execute(\"INSERT INTO in_and_out VALUES ('spending','rent',-3000)\")\n",
    "# c.execute(\"INSERT INTO in_and_out VALUES ('spending','utilities',-1000)\")\n",
    "# c.execute(\"INSERT INTO in_and_out VALUES ('spending','shopping',-1000)\")\n",
    "# c.execute(\"INSERT INTO in_and_out VALUES ('spending','dining',-500)\")\n",
    "# conn.commit()\n",
    "\n",
    "# conn.close()"
   ]
  },
  {
   "cell_type": "code",
   "execution_count": 21,
   "metadata": {},
   "outputs": [],
   "source": [
    "syns = wordnet.synsets(\"program\")"
   ]
  },
  {
   "cell_type": "code",
   "execution_count": 23,
   "metadata": {},
   "outputs": [
    {
     "name": "stdout",
     "output_type": "stream",
     "text": [
      "plan.n.01\n",
      "plan\n",
      "a series of steps to be carried out or goals to be accomplished\n",
      "['they drew up a six-step plan', 'they discussed plans for a new bond issue']\n"
     ]
    }
   ],
   "source": [
    "# An example of a synset:\n",
    "print(syns[0].name())\n",
    " \n",
    "# Just the word:\n",
    "print(syns[0].lemmas()[0].name())\n",
    " \n",
    "# Definition of that first synset:\n",
    "print(syns[0].definition())\n",
    " \n",
    "# Examples of the word in use in sentences:\n",
    "print(syns[0].examples())"
   ]
  },
  {
   "cell_type": "code",
   "execution_count": 26,
   "metadata": {},
   "outputs": [
    {
     "name": "stdout",
     "output_type": "stream",
     "text": [
      "{'secure', 'right', 'in_effect', 'unspoilt', 'in_force', 'upright', 'serious', 'proficient', 'just', 'ripe', 'sound', 'practiced', 'effective', 'commodity', 'well', 'estimable', 'beneficial', 'salutary', 'goodness', 'unspoiled', 'honorable', 'near', 'undecomposed', 'dependable', 'soundly', 'safe', 'good', 'expert', 'honest', 'thoroughly', 'respectable', 'adept', 'dear', 'trade_good', 'skilful', 'full', 'skillful'}\n",
      "{'bad', 'evilness', 'badness', 'ill', 'evil'}\n"
     ]
    }
   ],
   "source": [
    "synonyms = []\n",
    "antonyms = []\n",
    " \n",
    "for syn in wordnet.synsets(\"good\"):\n",
    "    for l in syn.lemmas():\n",
    "        synonyms.append(l.name())\n",
    "        if l.antonyms():\n",
    "            antonyms.append(l.antonyms()[0].name())\n",
    " \n",
    "print(set(synonyms))\n",
    "print(set(antonyms))"
   ]
  },
  {
   "cell_type": "code",
   "execution_count": 42,
   "metadata": {},
   "outputs": [
    {
     "name": "stdout",
     "output_type": "stream",
     "text": [
      "0.6666666666666666\n"
     ]
    }
   ],
   "source": [
    "w1 = wordnet.synset('car.n.01') # v here denotes the tag verb\n",
    "w2 = wordnet.synset('bus.n.01')\n",
    "print(w1.wup_similarity(w2))"
   ]
  },
  {
   "cell_type": "code",
   "execution_count": null,
   "metadata": {},
   "outputs": [],
   "source": []
  }
 ],
 "metadata": {
  "kernelspec": {
   "display_name": "Python 3",
   "language": "python",
   "name": "python3"
  },
  "language_info": {
   "codemirror_mode": {
    "name": "ipython",
    "version": 3
   },
   "file_extension": ".py",
   "mimetype": "text/x-python",
   "name": "python",
   "nbconvert_exporter": "python",
   "pygments_lexer": "ipython3",
   "version": "3.6.5"
  }
 },
 "nbformat": 4,
 "nbformat_minor": 2
}
